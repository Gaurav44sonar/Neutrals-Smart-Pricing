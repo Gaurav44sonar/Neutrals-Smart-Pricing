{
 "cells": [
  {
   "cell_type": "code",
   "execution_count": 159,
   "metadata": {},
   "outputs": [],
   "source": [
    "import pandas as pd\n",
    "import numpy as np"
   ]
  },
  {
   "cell_type": "code",
   "execution_count": 160,
   "metadata": {},
   "outputs": [
    {
     "data": {
      "text/html": [
       "<div>\n",
       "<style scoped>\n",
       "    .dataframe tbody tr th:only-of-type {\n",
       "        vertical-align: middle;\n",
       "    }\n",
       "\n",
       "    .dataframe tbody tr th {\n",
       "        vertical-align: top;\n",
       "    }\n",
       "\n",
       "    .dataframe thead th {\n",
       "        text-align: right;\n",
       "    }\n",
       "</style>\n",
       "<table border=\"1\" class=\"dataframe\">\n",
       "  <thead>\n",
       "    <tr style=\"text-align: right;\">\n",
       "      <th></th>\n",
       "      <th>Product Name</th>\n",
       "      <th>Base Price</th>\n",
       "      <th>Competitor Price</th>\n",
       "      <th>Demand</th>\n",
       "      <th>Supply</th>\n",
       "      <th>Expiry Days</th>\n",
       "      <th>Optimized Price</th>\n",
       "    </tr>\n",
       "  </thead>\n",
       "  <tbody>\n",
       "    <tr>\n",
       "      <th>0</th>\n",
       "      <td>Kinder Joy</td>\n",
       "      <td>114</td>\n",
       "      <td>114</td>\n",
       "      <td>1</td>\n",
       "      <td>0</td>\n",
       "      <td>16</td>\n",
       "      <td>112</td>\n",
       "    </tr>\n",
       "    <tr>\n",
       "      <th>1</th>\n",
       "      <td>Bru Coffee 200g</td>\n",
       "      <td>437</td>\n",
       "      <td>449</td>\n",
       "      <td>0</td>\n",
       "      <td>1</td>\n",
       "      <td>27</td>\n",
       "      <td>429</td>\n",
       "    </tr>\n",
       "    <tr>\n",
       "      <th>2</th>\n",
       "      <td>Bournvita 500g</td>\n",
       "      <td>125</td>\n",
       "      <td>126</td>\n",
       "      <td>2</td>\n",
       "      <td>1</td>\n",
       "      <td>18</td>\n",
       "      <td>123</td>\n",
       "    </tr>\n",
       "    <tr>\n",
       "      <th>3</th>\n",
       "      <td>Dairy Milk Chocolate</td>\n",
       "      <td>144</td>\n",
       "      <td>148</td>\n",
       "      <td>0</td>\n",
       "      <td>1</td>\n",
       "      <td>15</td>\n",
       "      <td>137</td>\n",
       "    </tr>\n",
       "    <tr>\n",
       "      <th>4</th>\n",
       "      <td>Amul Milk 1L</td>\n",
       "      <td>66</td>\n",
       "      <td>65</td>\n",
       "      <td>2</td>\n",
       "      <td>1</td>\n",
       "      <td>12</td>\n",
       "      <td>63</td>\n",
       "    </tr>\n",
       "  </tbody>\n",
       "</table>\n",
       "</div>"
      ],
      "text/plain": [
       "           Product Name  Base Price  Competitor Price  Demand  Supply  \\\n",
       "0            Kinder Joy         114               114       1       0   \n",
       "1       Bru Coffee 200g         437               449       0       1   \n",
       "2        Bournvita 500g         125               126       2       1   \n",
       "3  Dairy Milk Chocolate         144               148       0       1   \n",
       "4          Amul Milk 1L          66                65       2       1   \n",
       "\n",
       "   Expiry Days  Optimized Price  \n",
       "0           16              112  \n",
       "1           27              429  \n",
       "2           18              123  \n",
       "3           15              137  \n",
       "4           12               63  "
      ]
     },
     "execution_count": 160,
     "metadata": {},
     "output_type": "execute_result"
    }
   ],
   "source": [
    "df=pd.read_csv(\"blinkit_dynamic_pricing_1000_samples.csv\")\n",
    "df.head()\n"
   ]
  },
  {
   "cell_type": "code",
   "execution_count": 161,
   "metadata": {},
   "outputs": [
    {
     "data": {
      "text/plain": [
       "Product Name        0\n",
       "Base Price          0\n",
       "Competitor Price    0\n",
       "Demand              0\n",
       "Supply              0\n",
       "Expiry Days         0\n",
       "Optimized Price     0\n",
       "dtype: int64"
      ]
     },
     "execution_count": 161,
     "metadata": {},
     "output_type": "execute_result"
    }
   ],
   "source": [
    "df.isnull().sum()"
   ]
  },
  {
   "cell_type": "code",
   "execution_count": 162,
   "metadata": {},
   "outputs": [],
   "source": [
    "import xgboost as xgb\n",
    "from sklearn.model_selection import train_test_split\n",
    "from sklearn.preprocessing import LabelEncoder, StandardScaler\n",
    "from sklearn.metrics import mean_absolute_error, r2_score"
   ]
  },
  {
   "cell_type": "code",
   "execution_count": 163,
   "metadata": {},
   "outputs": [],
   "source": [
    "# encoder = LabelEncoder()\n",
    "# df[\"Demand\"] = encoder.fit_transform(df[\"Demand\"])  # Convert 'High', 'Medium', 'Low' → 2,1,0\n",
    "# df[\"Supply\"] = encoder.fit_transform(df[\"Supply\"])"
   ]
  },
  {
   "cell_type": "code",
   "execution_count": 164,
   "metadata": {},
   "outputs": [
    {
     "data": {
      "text/html": [
       "<div>\n",
       "<style scoped>\n",
       "    .dataframe tbody tr th:only-of-type {\n",
       "        vertical-align: middle;\n",
       "    }\n",
       "\n",
       "    .dataframe tbody tr th {\n",
       "        vertical-align: top;\n",
       "    }\n",
       "\n",
       "    .dataframe thead th {\n",
       "        text-align: right;\n",
       "    }\n",
       "</style>\n",
       "<table border=\"1\" class=\"dataframe\">\n",
       "  <thead>\n",
       "    <tr style=\"text-align: right;\">\n",
       "      <th></th>\n",
       "      <th>Product Name</th>\n",
       "      <th>Base Price</th>\n",
       "      <th>Competitor Price</th>\n",
       "      <th>Demand</th>\n",
       "      <th>Supply</th>\n",
       "      <th>Expiry Days</th>\n",
       "      <th>Optimized Price</th>\n",
       "    </tr>\n",
       "  </thead>\n",
       "  <tbody>\n",
       "    <tr>\n",
       "      <th>0</th>\n",
       "      <td>Kinder Joy</td>\n",
       "      <td>114</td>\n",
       "      <td>114</td>\n",
       "      <td>1</td>\n",
       "      <td>0</td>\n",
       "      <td>16</td>\n",
       "      <td>112</td>\n",
       "    </tr>\n",
       "    <tr>\n",
       "      <th>1</th>\n",
       "      <td>Bru Coffee 200g</td>\n",
       "      <td>437</td>\n",
       "      <td>449</td>\n",
       "      <td>0</td>\n",
       "      <td>1</td>\n",
       "      <td>27</td>\n",
       "      <td>429</td>\n",
       "    </tr>\n",
       "    <tr>\n",
       "      <th>2</th>\n",
       "      <td>Bournvita 500g</td>\n",
       "      <td>125</td>\n",
       "      <td>126</td>\n",
       "      <td>2</td>\n",
       "      <td>1</td>\n",
       "      <td>18</td>\n",
       "      <td>123</td>\n",
       "    </tr>\n",
       "    <tr>\n",
       "      <th>3</th>\n",
       "      <td>Dairy Milk Chocolate</td>\n",
       "      <td>144</td>\n",
       "      <td>148</td>\n",
       "      <td>0</td>\n",
       "      <td>1</td>\n",
       "      <td>15</td>\n",
       "      <td>137</td>\n",
       "    </tr>\n",
       "    <tr>\n",
       "      <th>4</th>\n",
       "      <td>Amul Milk 1L</td>\n",
       "      <td>66</td>\n",
       "      <td>65</td>\n",
       "      <td>2</td>\n",
       "      <td>1</td>\n",
       "      <td>12</td>\n",
       "      <td>63</td>\n",
       "    </tr>\n",
       "  </tbody>\n",
       "</table>\n",
       "</div>"
      ],
      "text/plain": [
       "           Product Name  Base Price  Competitor Price  Demand  Supply  \\\n",
       "0            Kinder Joy         114               114       1       0   \n",
       "1       Bru Coffee 200g         437               449       0       1   \n",
       "2        Bournvita 500g         125               126       2       1   \n",
       "3  Dairy Milk Chocolate         144               148       0       1   \n",
       "4          Amul Milk 1L          66                65       2       1   \n",
       "\n",
       "   Expiry Days  Optimized Price  \n",
       "0           16              112  \n",
       "1           27              429  \n",
       "2           18              123  \n",
       "3           15              137  \n",
       "4           12               63  "
      ]
     },
     "execution_count": 164,
     "metadata": {},
     "output_type": "execute_result"
    }
   ],
   "source": [
    "df.head()"
   ]
  },
  {
   "cell_type": "code",
   "execution_count": 165,
   "metadata": {},
   "outputs": [],
   "source": [
    "\n",
    "from sklearn.ensemble import RandomForestRegressor"
   ]
  },
  {
   "cell_type": "code",
   "execution_count": 166,
   "metadata": {},
   "outputs": [],
   "source": [
    "# Initialize the Random Forest Regressor\n",
    "rf_model = RandomForestRegressor(n_estimators=200, random_state=42)\n",
    "\n",
    "# Train the model\n",
    "rf_model.fit(X_train, y_train)\n",
    "\n",
    "# Predict on test data\n",
    "y_pred = rf_model.predict(X_test)"
   ]
  },
  {
   "cell_type": "code",
   "execution_count": 167,
   "metadata": {},
   "outputs": [
    {
     "data": {
      "text/plain": [
       "99.93175329054999"
      ]
     },
     "execution_count": 167,
     "metadata": {},
     "output_type": "execute_result"
    }
   ],
   "source": [
    "r2_score(y_test,y_pred)*100"
   ]
  },
  {
   "cell_type": "code",
   "execution_count": 168,
   "metadata": {},
   "outputs": [
    {
     "name": "stdout",
     "output_type": "stream",
     "text": [
      "Training R² Score: 0.9999\n",
      "Testing R² Score: 0.9993\n"
     ]
    }
   ],
   "source": [
    "train_score = rf_model.score(X_train, y_train)  # R² score on training set\n",
    "test_score = rf_model.score(X_test, y_test)  # R² score on test set\n",
    "\n",
    "print(f\"Training R² Score: {train_score:.4f}\")\n",
    "print(f\"Testing R² Score: {test_score:.4f}\")\n"
   ]
  },
  {
   "cell_type": "code",
   "execution_count": 169,
   "metadata": {},
   "outputs": [
    {
     "name": "stderr",
     "output_type": "stream",
     "text": [
      "d:\\Anaconda\\Lib\\site-packages\\sklearn\\utils\\validation.py:2739: UserWarning: X does not have valid feature names, but RandomForestRegressor was fitted with feature names\n",
      "  warnings.warn(\n"
     ]
    },
    {
     "data": {
      "text/plain": [
       "array([485.295])"
      ]
     },
     "execution_count": 169,
     "metadata": {},
     "output_type": "execute_result"
    }
   ],
   "source": [
    "res=rf_model.predict([[125,126,2,1,18]])\n",
    "res"
   ]
  },
  {
   "cell_type": "code",
   "execution_count": 170,
   "metadata": {},
   "outputs": [],
   "source": [
    "l=[]\n",
    "for i in range(1,200):\n",
    "    rf=RandomForestRegressor(n_estimators=i,random_state=42)\n",
    "    rf.fit(X_train,y_train)\n",
    "    y_pred=rf.predict(X_test)\n",
    "    l.append(r2_score(y_test,y_pred)*100)\n",
    "\n"
   ]
  },
  {
   "cell_type": "code",
   "execution_count": 171,
   "metadata": {},
   "outputs": [
    {
     "data": {
      "text/plain": [
       "99.93246344195582"
      ]
     },
     "execution_count": 171,
     "metadata": {},
     "output_type": "execute_result"
    }
   ],
   "source": [
    "max(l)"
   ]
  },
  {
   "cell_type": "code",
   "execution_count": null,
   "metadata": {},
   "outputs": [],
   "source": []
  },
  {
   "cell_type": "code",
   "execution_count": null,
   "metadata": {},
   "outputs": [
    {
     "name": "stderr",
     "output_type": "stream",
     "text": [
      "C:\\Users\\ssona\\AppData\\Local\\Temp\\ipykernel_17364\\1083164507.py:27: SettingWithCopyWarning: \n",
      "A value is trying to be set on a copy of a slice from a DataFrame.\n",
      "Try using .loc[row_indexer,col_indexer] = value instead\n",
      "\n",
      "See the caveats in the documentation: https://pandas.pydata.org/pandas-docs/stable/user_guide/indexing.html#returning-a-view-versus-a-copy\n",
      "  X[[\"Base Price\", \"Competitor Price\", \"Expiry Days\"]] = scaler.fit_transform(X[[\"Base Price\", \"Competitor Price\", \"Expiry Days\"]])\n"
     ]
    },
    {
     "name": "stdout",
     "output_type": "stream",
     "text": [
      "Mean Absolute Error (MAE): 1.49\n",
      "R² Score: 99.9761\n"
     ]
    }
   ],
   "source": [
    "# import pandas as pd\n",
    "# import numpy as np\n",
    "# import xgboost as xgb\n",
    "# from sklearn.model_selection import train_test_split\n",
    "# from sklearn.preprocessing import LabelEncoder, StandardScaler\n",
    "# from sklearn.metrics import mean_absolute_error, r2_score\n",
    "\n",
    "# # Load dataset\n",
    "# df = pd.read_csv(\"blinkit_dynamic_pricing_1000_samples.csv\")\n",
    "\n",
    "# # Clean price columns by removing the \"₹\" symbol and converting to float\n",
    "# df[\"Base Price\"] = df[\"Base Price\"].replace({'₹': ''}, regex=True).astype(float)\n",
    "# df[\"Competitor Price\"] = df[\"Competitor Price\"].replace({'₹': ''}, regex=True).astype(float)\n",
    "# df[\"Optimized Price\"] = df[\"Optimized Price\"].replace({'₹': ''}, regex=True).astype(float)\n",
    "\n",
    "# # Encode categorical variables (Demand, Supply)\n",
    "# # encoder = LabelEncoder()\n",
    "# # df[\"Demand\"] = encoder.fit_transform(df[\"Demand\"])   # e.g., High -> 2, Medium -> 1, Low -> 0\n",
    "# # df[\"Supply\"] = encoder.fit_transform(df[\"Supply\"])\n",
    "\n",
    "# # Define features (X) and target (y)\n",
    "# X = df[[\"Base Price\", \"Competitor Price\", \"Demand\", \"Supply\", \"Expiry Days\"]]\n",
    "# y = df[\"Optimized Price\"]\n",
    "\n",
    "# # Normalize numerical features using StandardScaler\n",
    "# scaler = StandardScaler()\n",
    "# X[[\"Base Price\", \"Competitor Price\", \"Expiry Days\"]] = scaler.fit_transform(X[[\"Base Price\", \"Competitor Price\", \"Expiry Days\"]])\n",
    "\n",
    "# # Split dataset into training and testing sets (80% train, 20% test)\n",
    "# X_train, X_test, y_train, y_test = train_test_split(X, y, test_size=0.2, random_state=42)\n",
    "\n",
    "# # Initialize and train the XGBoost Regressor\n",
    "# xgb_model = xgb.XGBRegressor(n_estimators=200, learning_rate=0.1, max_depth=6, random_state=42)\n",
    "# xgb_model.fit(X_train, y_train)\n",
    "\n",
    "# # Predict on the test set\n",
    "# y_pred = xgb_model.predict(X_test)\n",
    "\n",
    "# # Evaluate the model\n",
    "# mae = mean_absolute_error(y_test, y_pred)\n",
    "# r2 = r2_score(y_test, y_pred) * 100\n",
    "\n",
    "# print(f\"Mean Absolute Error (MAE): {mae:.2f}\")\n",
    "# print(f\"R² Score: {r2:.4f}\")\n",
    "\n",
    "import pandas as pd\n",
    "import numpy as np\n",
    "import xgboost as xgb\n",
    "from sklearn.model_selection import train_test_split\n",
    "from sklearn.preprocessing import StandardScaler\n",
    "from sklearn.metrics import mean_absolute_error, r2_score\n",
    "import pickle\n",
    "\n",
    "# Load dataset\n",
    "df = pd.read_csv(\"blinkit_dynamic_pricing_1000_samples.csv\")\n",
    "\n",
    "# Clean price columns by removing the \"₹\" symbol and converting to float\n",
    "df[\"Base Price\"] = df[\"Base Price\"].replace({'₹': ''}, regex=True).astype(float)\n",
    "df[\"Competitor Price\"] = df[\"Competitor Price\"].replace({'₹': ''}, regex=True).astype(float)\n",
    "df[\"Optimized Price\"] = df[\"Optimized Price\"].replace({'₹': ''}, regex=True).astype(float)\n",
    "\n",
    "# For this example, we assume Demand and Supply columns are already numeric.\n",
    "# If they are categorical, you would need to encode them.\n",
    "\n",
    "# Define features (X) and target (y)\n",
    "X = df[[\"Base Price\", \"Competitor Price\", \"Demand\", \"Supply\", \"Expiry Days\"]]\n",
    "y = df[\"Optimized Price\"]\n",
    "\n",
    "# Normalize numerical features using StandardScaler\n",
    "scaler = StandardScaler()\n",
    "numerical_cols = [\"Base Price\", \"Competitor Price\", \"Expiry Days\"]\n",
    "X.loc[:, numerical_cols] = scaler.fit_transform(X.loc[:, numerical_cols])\n",
    "\n",
    "# Optionally, save the scaler for future predictions\n",
    "with open(\"scaler.pkl\", \"wb\") as f:\n",
    "    pickle.dump(scaler, f)\n",
    "\n",
    "# Split dataset into training and testing sets (80% train, 20% test)\n",
    "X_train, X_test, y_train, y_test = train_test_split(X, y, test_size=0.2, random_state=42)\n",
    "\n",
    "# Initialize and train the XGBoost Regressor\n",
    "xgb_model = xgb.XGBRegressor(n_estimators=200, learning_rate=0.1, max_depth=6, random_state=42)\n",
    "xgb_model.fit(X_train, y_train)\n",
    "\n",
    "# Predict on the test set\n",
    "y_pred = xgb_model.predict(X_test)\n",
    "\n",
    "# Evaluate the model\n",
    "mae = mean_absolute_error(y_test, y_pred)\n",
    "r2 = r2_score(y_test, y_pred) * 100\n",
    "\n",
    "print(f\"Mean Absolute Error (MAE): {mae:.2f}\")\n",
    "print(f\"R² Score: {r2:.4f}\")\n",
    "\n",
    "# Save the trained model to a pickle file for later use\n",
    "with open(\"xgb_model.pkl\", \"wb\") as f:\n",
    "    pickle.dump(xgb_model, f)\n",
    "\n",
    "print(\"✅ Model and scaler have been saved!\")\n"
   ]
  },
  {
   "cell_type": "code",
   "execution_count": 180,
   "metadata": {},
   "outputs": [
    {
     "name": "stdout",
     "output_type": "stream",
     "text": [
      "Predicted Optimized Price: 24.95\n"
     ]
    }
   ],
   "source": [
    "import pandas as pd\n",
    "import numpy as np\n",
    "\n",
    "# Example new input data (replace these values with your actual new sample)\n",
    "new_sample = {\n",
    "    \"Base Price\": [27],\n",
    "    \"Competitor Price\": [30],\n",
    "    \"Demand\": [1],      # Categorical input\n",
    "    \"Supply\": [2],    # Categorical input\n",
    "    \"Expiry Days\": [8]\n",
    "}\n",
    "new_df = pd.DataFrame(new_sample)\n",
    "\n",
    "# Assume that 'encoder' and 'scaler' are already fitted on your training data.\n",
    "# For example:\n",
    "# encoder = LabelEncoder() and then fitted on the 'Demand' and 'Supply' columns in your training set.\n",
    "# scaler = StandardScaler() and then fitted on the numeric columns.\n",
    "\n",
    "# Encode categorical variables\n",
    "new_df[\"Demand\"] = encoder.transform(new_df[\"Demand\"])\n",
    "new_df[\"Supply\"] = encoder.transform(new_df[\"Supply\"])\n",
    "\n",
    "# Scale numerical features\n",
    "new_df[[\"Base Price\", \"Competitor Price\", \"Expiry Days\"]] = scaler.transform(\n",
    "    new_df[[\"Base Price\", \"Competitor Price\", \"Expiry Days\"]]\n",
    ")\n",
    "\n",
    "# Predict using your trained XGBoost model (xgb_model)\n",
    "predicted_price = xgb_model.predict(new_df)[0]\n",
    "print(f\"Predicted Optimized Price: {predicted_price:.2f}\")\n"
   ]
  },
  {
   "cell_type": "code",
   "execution_count": 177,
   "metadata": {},
   "outputs": [],
   "source": [
    "import pickle"
   ]
  },
  {
   "cell_type": "code",
   "execution_count": 178,
   "metadata": {},
   "outputs": [],
   "source": [
    "with open(\"xgb_model.pkl\", \"wb\") as f:\n",
    "    pickle.dump(xgb_model, f)"
   ]
  },
  {
   "cell_type": "code",
   "execution_count": null,
   "metadata": {},
   "outputs": [],
   "source": []
  }
 ],
 "metadata": {
  "kernelspec": {
   "display_name": "base",
   "language": "python",
   "name": "python3"
  },
  "language_info": {
   "codemirror_mode": {
    "name": "ipython",
    "version": 3
   },
   "file_extension": ".py",
   "mimetype": "text/x-python",
   "name": "python",
   "nbconvert_exporter": "python",
   "pygments_lexer": "ipython3",
   "version": "3.11.5"
  }
 },
 "nbformat": 4,
 "nbformat_minor": 2
}
